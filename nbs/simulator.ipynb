{
 "cells": [
  {
   "cell_type": "code",
   "execution_count": null,
   "id": "ecfc8016",
   "metadata": {},
   "outputs": [],
   "source": [
    "# | default_exp simulation"
   ]
  },
  {
   "cell_type": "code",
   "execution_count": null,
   "id": "d42442b2",
   "metadata": {},
   "outputs": [],
   "source": [
    "# | exporti\n",
    "\n",
    "from dataclasses import dataclass\n",
    "from typing import Callable\n",
    "from bayesianfin.data import FeatureEngineer, append_from_log_ret\n",
    "from jax import random\n",
    "from numpyro.infer import Predictive\n",
    "import numpy.typing as npt\n",
    "import polars as pl\n",
    "from tqdm import tqdm\n",
    "import random as pyrandom"
   ]
  },
  {
   "cell_type": "code",
   "execution_count": null,
   "id": "1d0690c8",
   "metadata": {},
   "outputs": [
    {
     "ename": "NameError",
     "evalue": "name 'dataclass' is not defined",
     "output_type": "error",
     "traceback": [
      "\u001b[0;31m---------------------------------------------------------------------------\u001b[0m",
      "\u001b[0;31mNameError\u001b[0m                                 Traceback (most recent call last)",
      "Cell \u001b[0;32mIn[1], line 4\u001b[0m\n\u001b[1;32m      1\u001b[0m \u001b[38;5;66;03m# | export\u001b[39;00m\n\u001b[0;32m----> 4\u001b[0m \u001b[38;5;129m@dataclass\u001b[39m\n\u001b[1;32m      5\u001b[0m \u001b[38;5;28;01mclass\u001b[39;00m\u001b[38;5;250m \u001b[39m\u001b[38;5;21;01mSimulator\u001b[39;00m:\n\u001b[1;32m      6\u001b[0m     model: Callable\n\u001b[1;32m      7\u001b[0m     feature_engineer: FeatureEngineer\n",
      "\u001b[0;31mNameError\u001b[0m: name 'dataclass' is not defined"
     ]
    }
   ],
   "source": [
    "# | export\n",
    "\n",
    "\n",
    "@dataclass\n",
    "class Simulator:\n",
    "    model: Callable\n",
    "    feature_engineer: FeatureEngineer\n",
    "    target_site: str = \"log_ret\"\n",
    "    inherit_vals: list[str] = ()\n",
    "    exo_fixed_effects: list[str] = ()\n",
    "    additional_effects: list[str] = ()\n",
    "\n",
    "    def simulate_paths(\n",
    "        self,\n",
    "        steps: int,\n",
    "        starting_sim_df: pl.DataFrame,\n",
    "        posterior_samples: dict[str, npt.NDArray],\n",
    "        num_sims: int = 10,\n",
    "    ) -> pl.DataFrame:\n",
    "        all_trajectories = []\n",
    "        for sim_id in range(num_sims):\n",
    "            simulated_path = self.simulate_path(\n",
    "                steps=steps,\n",
    "                starting_sim_df=starting_sim_df,\n",
    "                posterior_samples=posterior_samples,\n",
    "            )\n",
    "            all_trajectories.append(simulated_path.with_columns(run_id=pl.lit(sim_id)))\n",
    "        all_runs = pl.concat(all_trajectories)\n",
    "        return all_runs\n",
    "\n",
    "    def simulate_path(\n",
    "        self,\n",
    "        steps: int,\n",
    "        starting_sim_df: pl.DataFrame,\n",
    "        posterior_samples: dict[str, npt.NDArray],\n",
    "    ):\n",
    "        rng_key = random.PRNGKey(pyrandom.randint(0, 1024))\n",
    "        rng_key, sim_key = random.split(rng_key)\n",
    "        sim_key, traj_key = random.split(sim_key)\n",
    "        feature_engineer = self.feature_engineer\n",
    "        prior_predictive = Predictive(\n",
    "            self.model,\n",
    "            posterior_samples=posterior_samples,\n",
    "            num_samples=1,\n",
    "        )\n",
    "        feature_sim_df = feature_engineer.create_features(starting_sim_df)\n",
    "        current_price_shifts = feature_engineer.to_numpy_dict(feature_sim_df[-1])\n",
    "\n",
    "        add_kwargs = {}\n",
    "        for eff in self.exo_fixed_effects:\n",
    "            add_kwargs[eff] = feature_sim_df[-1][eff].to_numpy()\n",
    "\n",
    "        for t in range(steps):\n",
    "            traj_key, step_key = random.split(traj_key)\n",
    "            prior_predictions = prior_predictive(\n",
    "                step_key, past_values=current_price_shifts, **add_kwargs\n",
    "            )\n",
    "            # Takes any samples from the site and record it\n",
    "            new_log_ret = prior_predictions[self.target_site].squeeze().item()\n",
    "            starting_sim_df = append_from_log_ret(\n",
    "                starting_sim_df,\n",
    "                new_log_ret=new_log_ret,\n",
    "                inherit_vals=self.inherit_vals,\n",
    "                add_variables={\n",
    "                    e: int(prior_predictions[e].squeeze().item())\n",
    "                    for e in self.additional_effects\n",
    "                },\n",
    "            )\n",
    "\n",
    "            # With the new record attached, we re-extract the features.\n",
    "            feature_sim_df = feature_engineer.create_features(starting_sim_df)\n",
    "            current_price_shifts = feature_engineer.to_numpy_dict(feature_sim_df[-1])\n",
    "\n",
    "        return starting_sim_df\n"
   ]
  }
 ],
 "metadata": {
  "kernelspec": {
   "display_name": ".venv",
   "language": "python",
   "name": "python3"
  },
  "language_info": {
   "codemirror_mode": {
    "name": "ipython",
    "version": 3
   },
   "file_extension": ".py",
   "mimetype": "text/x-python",
   "name": "python",
   "nbconvert_exporter": "python",
   "pygments_lexer": "ipython3",
   "version": "3.12.7"
  }
 },
 "nbformat": 4,
 "nbformat_minor": 5
}
